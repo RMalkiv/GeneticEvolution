{
 "cells": [
  {
   "cell_type": "code",
   "execution_count": 1,
   "id": "b2182c9f",
   "metadata": {},
   "outputs": [],
   "source": [
    "import torch\n",
    "from torch import nn\n",
    "import numpy as np\n",
    "\n",
    "from resource import ResourceType\n",
    "from genetics import inference_gene, dna_transcriptor"
   ]
  },
  {
   "cell_type": "code",
   "execution_count": 2,
   "id": "664bb130",
   "metadata": {},
   "outputs": [],
   "source": [
    "from genetics import AMINOACIDS_MAPPING"
   ]
  },
  {
   "cell_type": "code",
   "execution_count": null,
   "id": "657d2652",
   "metadata": {},
   "outputs": [],
   "source": []
  },
  {
   "cell_type": "code",
   "execution_count": 8,
   "id": "fcae40c9",
   "metadata": {},
   "outputs": [
    {
     "name": "stdout",
     "output_type": "stream",
     "text": [
      "YK (0.3210432827472687, 1.0878145694732666)\n",
      "KY (0.35069864988327026, 1.3849995136260986)\n",
      "YKKY (0.3651913106441498, 0.4586832821369171)\n",
      "YK$KY (0.29189637303352356, 0.7147053480148315)\n",
      "KY$YK (0.3570723533630371, 0.4408493936061859)\n"
     ]
    }
   ],
   "source": [
    "w = \"TATAAA\"\n",
    "w2 = \"AAATAT\"\n",
    "w3 = \"TATAAAAAATAT\"\n",
    "w4 = \"TATAAATAGAAATAT\"\n",
    "w5 = \"AAATATTAGTATAAA\"\n",
    "print(dna_transcriptor.transcript(w), inference_gene(w))\n",
    "print(dna_transcriptor.transcript(w2), inference_gene(w2))\n",
    "print(dna_transcriptor.transcript(w3), inference_gene(w3))\n",
    "print(dna_transcriptor.transcript(w4), inference_gene(w4))\n",
    "print(dna_transcriptor.transcript(w5), inference_gene(w5))"
   ]
  },
  {
   "cell_type": "code",
   "execution_count": 3,
   "id": "da4ba323",
   "metadata": {},
   "outputs": [
    {
     "name": "stdout",
     "output_type": "stream",
     "text": [
      "AAA (0.5327721238136292, 0.8989083170890808)\n",
      "AAT (0.3168683648109436, 0.6960346102714539)\n",
      "AAG (0.5327721238136292, 0.8989083170890808)\n",
      "AAC (0.3168683648109436, 0.6960346102714539)\n",
      "ATA (0.34641411900520325, 0.7110138535499573)\n",
      "ATT (0.34641411900520325, 0.7110138535499573)\n",
      "ATG (0.44553282856941223, 0.880810022354126)\n",
      "ATC (0.34641411900520325, 0.7110138535499573)\n",
      "AGA (0.35719195008277893, 1.016831636428833)\n",
      "AGT (0.3200312554836273, 0.5010390877723694)\n",
      "AGG (0.35719195008277893, 1.016831636428833)\n",
      "AGC (0.3200312554836273, 0.5010390877723694)\n",
      "ACA (0.38398969173431396, 0.593378484249115)\n",
      "ACT (0.38398969173431396, 0.593378484249115)\n",
      "ACG (0.38398969173431396, 0.593378484249115)\n",
      "ACC (0.38398969173431396, 0.593378484249115)\n",
      "TAA (0.597590982913971, 0.9058592915534973)\n",
      "TAT (0.47040489315986633, 0.5021955966949463)\n",
      "TAG (0.597590982913971, 0.9058592915534973)\n",
      "TAC (0.47040489315986633, 0.5021955966949463)\n",
      "TTA (0.4684317409992218, 0.6818724274635315)\n",
      "TTT (0.3636183738708496, 1.0543146133422852)\n",
      "TTG (0.4684317409992218, 0.6818724274635315)\n",
      "TTC (0.3636183738708496, 1.0543146133422852)\n",
      "TGA (0.597590982913971, 0.9058592915534973)\n",
      "TGT (0.33472952246665955, 0.6962977647781372)\n",
      "TGG (0.406023770570755, 0.9247776865959167)\n",
      "TGC (0.33472952246665955, 0.6962977647781372)\n",
      "TCA (0.3200312554836273, 0.5010390877723694)\n",
      "TCT (0.3200312554836273, 0.5010390877723694)\n",
      "TCG (0.3200312554836273, 0.5010390877723694)\n",
      "TCC (0.3200312554836273, 0.5010390877723694)\n",
      "GAA (0.3852495849132538, 0.49806010723114014)\n",
      "GAT (0.4184916019439697, 0.7019175887107849)\n",
      "GAG (0.3852495849132538, 0.49806010723114014)\n",
      "GAC (0.4184916019439697, 0.7019175887107849)\n",
      "GTA (0.3314874768257141, 0.24966928362846375)\n",
      "GTT (0.3314874768257141, 0.24966928362846375)\n",
      "GTG (0.3314874768257141, 0.24966928362846375)\n",
      "GTC (0.3314874768257141, 0.24966928362846375)\n",
      "GGA (0.4093843400478363, 0.6580105423927307)\n",
      "GGT (0.4093843400478363, 0.6580105423927307)\n",
      "GGG (0.4093843400478363, 0.6580105423927307)\n",
      "GGC (0.4093843400478363, 0.6580105423927307)\n",
      "GCA (0.39759668707847595, 0.7509562969207764)\n",
      "GCT (0.39759668707847595, 0.7509562969207764)\n",
      "GCG (0.39759668707847595, 0.7509562969207764)\n",
      "GCC (0.39759668707847595, 0.7509562969207764)\n",
      "CAA (0.25074270367622375, 0.24021688103675842)\n",
      "CAT (0.25074270367622375, 0.24021688103675842)\n",
      "CAG (0.25074270367622375, 0.24021688103675842)\n",
      "CAC (0.25074270367622375, 0.24021688103675842)\n",
      "CTA (0.4684317409992218, 0.6818724274635315)\n",
      "CTT (0.4684317409992218, 0.6818724274635315)\n",
      "CTG (0.4684317409992218, 0.6818724274635315)\n",
      "CTC (0.4684317409992218, 0.6818724274635315)\n",
      "CGA (0.35719195008277893, 1.016831636428833)\n",
      "CGT (0.35719195008277893, 1.016831636428833)\n",
      "CGG (0.35719195008277893, 1.016831636428833)\n",
      "CGC (0.35719195008277893, 1.016831636428833)\n",
      "CCA (0.32918021082878113, 1.013318657875061)\n",
      "CCT (0.32918021082878113, 1.013318657875061)\n",
      "CCG (0.32918021082878113, 1.013318657875061)\n",
      "CCC (0.32918021082878113, 1.013318657875061)\n"
     ]
    }
   ],
   "source": [
    "for k, item in AMINOACIDS_MAPPING.items():\n",
    "    print(k, inference_gene(k))"
   ]
  },
  {
   "cell_type": "code",
   "execution_count": 254,
   "id": "33e98d7d",
   "metadata": {},
   "outputs": [],
   "source": [
    "AMINOACIDS = sorted(list('FLIMVPTAYHQNKDECWRSG'))\n",
    "NUCLEOTIDES = list('ATGC')\n",
    "AMINOACIDS_MAPPING = {\n",
    "    'AAA': 'K',    'AAT': 'N',    'AAG': 'K',    'AAC': 'N',\n",
    "    'ATA': 'I',    'ATT': 'I',    'ATG': 'M',    'ATC': 'I',\n",
    "    'AGA': 'R',    'AGT': 'S',    'AGG': 'R',    'AGC': 'S',\n",
    "    'ACA': 'T',    'ACT': 'T',    'ACG': 'T',    'ACC': 'T',\n",
    "    'TAA': '$',    'TAT': 'Y',    'TAG': '$',    'TAC': 'Y',\n",
    "    'TTA': 'L',    'TTT': 'F',    'TTG': 'L',    'TTC': 'F',\n",
    "    'TGA': '$',    'TGT': 'C',    'TGG': 'W',    'TGC': 'C',\n",
    "    'TCA': 'S',    'TCT': 'S',    'TCG': 'S',    'TCC': 'S',\n",
    "    'GAA': 'E',    'GAT': 'D',    'GAG': 'E',    'GAC': 'D',\n",
    "    'GTA': 'V',    'GTT': 'V',    'GTG': 'V',    'GTC': 'V',\n",
    "    'GGA': 'G',    'GGT': 'G',    'GGG': 'G',    'GGC': 'G',\n",
    "    'GCA': 'A',    'GCT': 'A',    'GCG': 'A',    'GCC': 'A',\n",
    "    'CAA': 'H',    'CAT': 'H',    'CAG': 'H',    'CAC': 'H',\n",
    "    'CTA': 'L',    'CTT': 'L',    'CTG': 'L',    'CTC': 'L',\n",
    "    'CGA': 'R',    'CGT': 'R',    'CGG': 'R',    'CGC': 'R',\n",
    "    'CCA': 'P',    'CCT': 'P',    'CCG': 'P',    'CCC': 'P'\n",
    "}"
   ]
  },
  {
   "cell_type": "code",
   "execution_count": 255,
   "id": "4c41c693",
   "metadata": {},
   "outputs": [
    {
     "data": {
      "text/plain": [
       "{'$': 0,\n",
       " 'A': 1,\n",
       " 'C': 2,\n",
       " 'D': 3,\n",
       " 'E': 4,\n",
       " 'F': 5,\n",
       " 'G': 6,\n",
       " 'H': 7,\n",
       " 'I': 8,\n",
       " 'K': 9,\n",
       " 'L': 10,\n",
       " 'M': 11,\n",
       " 'N': 12,\n",
       " 'P': 13,\n",
       " 'R': 14,\n",
       " 'S': 15,\n",
       " 'T': 16,\n",
       " 'V': 17,\n",
       " 'W': 18,\n",
       " 'Y': 19}"
      ]
     },
     "execution_count": 255,
     "metadata": {},
     "output_type": "execute_result"
    }
   ],
   "source": [
    "items = np.unique(list(zip(*AMINOACIDS_MAPPING.items()))[1]).tolist()\n",
    "dict(zip(items, range(len(items))))"
   ]
  },
  {
   "cell_type": "code",
   "execution_count": 158,
   "id": "268693d0",
   "metadata": {},
   "outputs": [],
   "source": [
    "class DNATranscriptor:\n",
    "    def __init__(self, mapping=AMINOACIDS_MAPPING):\n",
    "        self.mapping = mapping\n",
    "\n",
    "    def transcript(self, dna):\n",
    "        triplet_list = self.cut_triplets(dna)\n",
    "        return ''.join([self.mapping[triplet] for triplet in triplet_list])\n",
    "            \n",
    "\n",
    "    def cut_triplets(self, dna):\n",
    "        triplet_list = []\n",
    "        step_count = len(dna) // 3\n",
    "        for i in range(step_count):\n",
    "            triplet_list.append(dna[3*i:3*i+3])\n",
    "        return triplet_list\n",
    "    \n",
    "    def __call__(self, dna):\n",
    "        return self.transcript(dna)"
   ]
  },
  {
   "cell_type": "code",
   "execution_count": 217,
   "id": "da362bd5",
   "metadata": {},
   "outputs": [],
   "source": [
    "class AminoacidTokenizer:\n",
    "    def __init__(self):\n",
    "        items = np.unique(list(zip(*AMINOACIDS_MAPPING.items()))[1]).tolist()\n",
    "        self.mapping = dict(zip(items, range(len(items))))\n",
    "        \n",
    "    def tokenize(self, x):\n",
    "        gene = torch.tensor(list(map(lambda x: self.mapping[x], x)))\n",
    "        position = torch.arange(len(gene))\n",
    "        s_codon = torch.roll(torch.cumsum((gene == 0), dim=0), 1)\n",
    "        s_codon[0] = 0\n",
    "        return {'protein': gene.view(1, -1), 'position': position.view(1, -1), 's-codon': s_codon.view(1, -1)}\n",
    "    \n",
    "    def __call__(self, x):\n",
    "        return self.tokenize(x)"
   ]
  },
  {
   "cell_type": "code",
   "execution_count": 218,
   "id": "800b3f80",
   "metadata": {},
   "outputs": [],
   "source": [
    "dna_transcriptor = DNATranscriptor()\n",
    "aminoacid_tokenizer = AminoacidTokenizer()"
   ]
  },
  {
   "cell_type": "code",
   "execution_count": 219,
   "id": "1f659d1d",
   "metadata": {},
   "outputs": [
    {
     "data": {
      "text/plain": [
       "{'protein': tensor([[9, 0, 9, 8]]),\n",
       " 'position': tensor([[0, 1, 2, 3]]),\n",
       " 's-codon': tensor([[0, 0, 1, 1]])}"
      ]
     },
     "execution_count": 219,
     "metadata": {},
     "output_type": "execute_result"
    }
   ],
   "source": [
    "aminoacid_tokenizer(dna_transcriptor('AAATGAAAAATA'))"
   ]
  },
  {
   "cell_type": "code",
   "execution_count": 208,
   "id": "86e7ebcc",
   "metadata": {},
   "outputs": [],
   "source": [
    "class GeneEncoder(nn.Module):\n",
    "    def __init__(self):\n",
    "        super(GeneEncoder, self).__init__()\n",
    "        self.embedding = nn.Embedding(num_embeddings=20, embedding_dim=64)\n",
    "        self.position_embedding = nn.Embedding(num_embeddings=128, embedding_dim=64, padding_idx=0)\n",
    "        self.stop_codon_embedding = nn.Embedding(num_embeddings=128, embedding_dim=64)\n",
    "        block = nn.TransformerEncoderLayer(d_model=64,\n",
    "                                        nhead=8,\n",
    "                                        dim_feedforward=64,\n",
    "                                        dropout=0.1,\n",
    "                                        batch_first=True)\n",
    "        self.encoder = nn.TransformerEncoder(block, 6)\n",
    "        \n",
    "    def forward(self, gene, position, stop_codon_alignment):\n",
    "        gene_encoding = self.embedding(gene)\n",
    "        position_encoding = self.position_embedding(position)\n",
    "        stop_codon_encoding = self.stop_codon_embedding(stop_codon_alignment)\n",
    "        \n",
    "        embeddings = gene_encoding + position_encoding + stop_codon_encoding\n",
    "        outputs = self.encoder(embeddings)\n",
    "        pooling = outputs.mean(dim=1)\n",
    "        return outputs, pooling\n",
    "    \n",
    "class Head(nn.Module):\n",
    "    def __init__(self):\n",
    "        super(Head, self).__init__()\n",
    "        self.linear = nn.Linear(64,  1)\n",
    "        \n",
    "    def forward(self, x):\n",
    "        return torch.sigmoid(self.linear(x))\n",
    "    \n",
    "    \n",
    "class FloatHead(nn.Module):\n",
    "    def __init__(self):\n",
    "        super(FloatHead, self).__init__()\n",
    "        self.linear = nn.Linear(64,  1)\n",
    "        \n",
    "    def forward(self, x):\n",
    "        return self.linear(x)"
   ]
  },
  {
   "cell_type": "code",
   "execution_count": 209,
   "id": "0fd5d5a8",
   "metadata": {},
   "outputs": [],
   "source": [
    "model = GeneEncoder()"
   ]
  },
  {
   "cell_type": "code",
   "execution_count": 210,
   "id": "cd2d8046",
   "metadata": {},
   "outputs": [],
   "source": [
    "is_cool_gene = Head()\n",
    "is_float_gene = FloatHead()"
   ]
  },
  {
   "cell_type": "code",
   "execution_count": 220,
   "id": "400e4684",
   "metadata": {},
   "outputs": [],
   "source": [
    "def encode_gene(gene):\n",
    "    return aminoacid_tokenizer(dna_transcriptor(gene))"
   ]
  },
  {
   "cell_type": "code",
   "execution_count": 221,
   "id": "8836b71d",
   "metadata": {},
   "outputs": [],
   "source": [
    "def inference_gene(gene):\n",
    "    model.eval()\n",
    "    gene_tokenzied = encode_gene(gene)\n",
    "    out, pooling = model(gene_tokenzied['protein'], gene_tokenzied['position'], gene_tokenzied['s-codon'])\n",
    "    return float(is_cool_gene(pooling)), float(is_float_gene(pooling))"
   ]
  },
  {
   "cell_type": "code",
   "execution_count": 216,
   "id": "fcf9b6a4",
   "metadata": {},
   "outputs": [
    {
     "name": "stdout",
     "output_type": "stream",
     "text": [
      "AAATGA (0.44808048009872437, -0.6520209908485413)\n",
      "AAA (0.4091910421848297, -0.9662929773330688)\n",
      "AAATGAAAA (0.5065053701400757, -0.6098647713661194)\n",
      "AAAAAAAAA (0.4136034846305847, -0.7743958830833435)\n",
      "TGATGATGA (0.439308762550354, -0.6520992517471313)\n",
      "GCGCGC (0.24293318390846252, -0.9206771850585938)\n"
     ]
    }
   ],
   "source": [
    "with torch.no_grad():\n",
    "    for gene in ['AAATGA', \"AAA\", \"AAATGAAAA\", \"AAAAAAAAA\", \"TGATGATGA\", \"GCGCGC\"]:\n",
    "        print(gene, inference_gene(gene))"
   ]
  },
  {
   "cell_type": "code",
   "execution_count": 239,
   "id": "ceeb8e48",
   "metadata": {},
   "outputs": [
    {
     "name": "stdout",
     "output_type": "stream",
     "text": [
      "AAATGA (0.315243124961853, -0.9511200785636902)\n",
      "AAA (0.4091910421848297, -0.9662929773330688)\n",
      "AAATGAAAA (0.40868523716926575, -0.8094353079795837)\n",
      "AAAAAAAAA (0.4136034846305847, -0.7743958830833435)\n",
      "TGATGATGA (0.33275094628334045, -0.8055247068405151)\n",
      "GCGCGC (0.24293318390846252, -0.9206771850585938)\n",
      "TTTTTTTTT (0.25903835892677307, -0.7840675711631775)\n"
     ]
    }
   ],
   "source": [
    "with torch.no_grad():\n",
    "    for gene in ['AAATGA', \"AAA\", \"AAATGAAAA\", \"AAAAAAAAA\", \"TGATGATGA\", \"GCGCGC\", \"TTTTTTTTT\"]:\n",
    "        print(gene, inference_gene(gene))"
   ]
  },
  {
   "cell_type": "code",
   "execution_count": 214,
   "id": "a8cb861d",
   "metadata": {},
   "outputs": [],
   "source": [
    "o = aminoacid_tokenizer(dna_transcriptor('ATATAAAATTAAAAA'))\n",
    "pr, po = o['protein'], o['position']"
   ]
  },
  {
   "cell_type": "code",
   "execution_count": 183,
   "id": "a9e29851",
   "metadata": {},
   "outputs": [
    {
     "data": {
      "text/plain": [
       "tensor([[0, 1, 1, 2, 2]])"
      ]
     },
     "execution_count": 183,
     "metadata": {},
     "output_type": "execute_result"
    }
   ],
   "source": [
    "torch.cumsum((pr == 0), dim=1)"
   ]
  },
  {
   "cell_type": "code",
   "execution_count": 184,
   "id": "3b0f09db",
   "metadata": {},
   "outputs": [
    {
     "data": {
      "text/plain": [
       "torch.Size([1, 5])"
      ]
     },
     "execution_count": 184,
     "metadata": {},
     "output_type": "execute_result"
    }
   ],
   "source": [
    "pr.size()"
   ]
  },
  {
   "cell_type": "code",
   "execution_count": 186,
   "id": "aa2b7efc",
   "metadata": {},
   "outputs": [
    {
     "data": {
      "text/plain": [
       "tensor([[0, 1],\n",
       "        [0, 3]])"
      ]
     },
     "execution_count": 186,
     "metadata": {},
     "output_type": "execute_result"
    }
   ],
   "source": [
    "(pr==0).nonzero()"
   ]
  },
  {
   "cell_type": "code",
   "execution_count": 223,
   "id": "15496cd9",
   "metadata": {},
   "outputs": [],
   "source": []
  },
  {
   "cell_type": "code",
   "execution_count": 241,
   "id": "b0abcf96",
   "metadata": {},
   "outputs": [],
   "source": [
    "my_resources = ResourceType({'h2o': 5, 'al': 1})"
   ]
  },
  {
   "cell_type": "code",
   "execution_count": 252,
   "id": "a92b5cb3",
   "metadata": {},
   "outputs": [
    {
     "name": "stdout",
     "output_type": "stream",
     "text": [
      "None\n"
     ]
    }
   ],
   "source": [
    "print(my_resources * 2.5)"
   ]
  },
  {
   "cell_type": "code",
   "execution_count": 250,
   "id": "64e2aa00",
   "metadata": {},
   "outputs": [
    {
     "data": {
      "text/plain": [
       "8"
      ]
     },
     "execution_count": 250,
     "metadata": {},
     "output_type": "execute_result"
    }
   ],
   "source": [
    "int(1 / 0.12)"
   ]
  },
  {
   "cell_type": "code",
   "execution_count": 249,
   "id": "3730eb51",
   "metadata": {},
   "outputs": [
    {
     "data": {
      "text/plain": [
       "0.12"
      ]
     },
     "execution_count": 249,
     "metadata": {},
     "output_type": "execute_result"
    }
   ],
   "source": [
    " 8.333333333333334"
   ]
  }
 ],
 "metadata": {
  "kernelspec": {
   "display_name": "Python 3 (ipykernel)",
   "language": "python",
   "name": "python3"
  },
  "language_info": {
   "codemirror_mode": {
    "name": "ipython",
    "version": 3
   },
   "file_extension": ".py",
   "mimetype": "text/x-python",
   "name": "python",
   "nbconvert_exporter": "python",
   "pygments_lexer": "ipython3",
   "version": "3.11.4"
  }
 },
 "nbformat": 4,
 "nbformat_minor": 5
}
